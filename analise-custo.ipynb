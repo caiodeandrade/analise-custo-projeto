{
  "cells": [
    {
      "cell_type": "code",
      "execution_count": 199,
      "metadata": {
        "id": "qeaKblMYT0Qd"
      },
      "outputs": [],
      "source": [
        "import pandas as pd"
      ]
    },
    {
      "cell_type": "markdown",
      "metadata": {
        "id": "Hlcs4k5UA5Iw"
      },
      "source": [
        "Exercício 2"
      ]
    },
    {
      "cell_type": "code",
      "execution_count": 200,
      "metadata": {
        "colab": {
          "base_uri": "https://localhost:8080/",
          "height": 363
        },
        "id": "pxpQQHN3TQY2",
        "outputId": "a35af458-e67d-44dc-9781-33ec5792e8e7"
      },
      "outputs": [
        {
          "data": {
            "text/html": [
              "<div>\n",
              "<style scoped>\n",
              "    .dataframe tbody tr th:only-of-type {\n",
              "        vertical-align: middle;\n",
              "    }\n",
              "\n",
              "    .dataframe tbody tr th {\n",
              "        vertical-align: top;\n",
              "    }\n",
              "\n",
              "    .dataframe thead th {\n",
              "        text-align: right;\n",
              "    }\n",
              "</style>\n",
              "<table border=\"1\" class=\"dataframe\">\n",
              "  <thead>\n",
              "    <tr style=\"text-align: right;\">\n",
              "      <th></th>\n",
              "      <th>Atividade</th>\n",
              "      <th>Responsável</th>\n",
              "      <th>S1</th>\n",
              "      <th>S2</th>\n",
              "      <th>S3</th>\n",
              "      <th>S4</th>\n",
              "      <th>S5</th>\n",
              "      <th>S6</th>\n",
              "      <th>S7</th>\n",
              "      <th>S8</th>\n",
              "    </tr>\n",
              "  </thead>\n",
              "  <tbody>\n",
              "    <tr>\n",
              "      <th>0</th>\n",
              "      <td>1</td>\n",
              "      <td>A</td>\n",
              "      <td>12.0</td>\n",
              "      <td>12.0</td>\n",
              "      <td>12.0</td>\n",
              "      <td>12.0</td>\n",
              "      <td>12</td>\n",
              "      <td>12.0</td>\n",
              "      <td>12.0</td>\n",
              "      <td>12.0</td>\n",
              "    </tr>\n",
              "    <tr>\n",
              "      <th>1</th>\n",
              "      <td>2</td>\n",
              "      <td>B</td>\n",
              "      <td>0.0</td>\n",
              "      <td>4.0</td>\n",
              "      <td>4.0</td>\n",
              "      <td>4.0</td>\n",
              "      <td>4</td>\n",
              "      <td>4.0</td>\n",
              "      <td>4.0</td>\n",
              "      <td>4.0</td>\n",
              "    </tr>\n",
              "    <tr>\n",
              "      <th>2</th>\n",
              "      <td>3</td>\n",
              "      <td>C</td>\n",
              "      <td>0.0</td>\n",
              "      <td>6.0</td>\n",
              "      <td>6.0</td>\n",
              "      <td>6.0</td>\n",
              "      <td>6</td>\n",
              "      <td>0.0</td>\n",
              "      <td>0.0</td>\n",
              "      <td>0.0</td>\n",
              "    </tr>\n",
              "    <tr>\n",
              "      <th>3</th>\n",
              "      <td>4</td>\n",
              "      <td>C</td>\n",
              "      <td>0.0</td>\n",
              "      <td>0.0</td>\n",
              "      <td>12.0</td>\n",
              "      <td>12.0</td>\n",
              "      <td>12</td>\n",
              "      <td>12.0</td>\n",
              "      <td>0.0</td>\n",
              "      <td>0.0</td>\n",
              "    </tr>\n",
              "    <tr>\n",
              "      <th>4</th>\n",
              "      <td>5</td>\n",
              "      <td>G</td>\n",
              "      <td>0.0</td>\n",
              "      <td>0.0</td>\n",
              "      <td>0.0</td>\n",
              "      <td>8.0</td>\n",
              "      <td>8</td>\n",
              "      <td>8.0</td>\n",
              "      <td>0.0</td>\n",
              "      <td>0.0</td>\n",
              "    </tr>\n",
              "    <tr>\n",
              "      <th>5</th>\n",
              "      <td>6</td>\n",
              "      <td>F</td>\n",
              "      <td>0.0</td>\n",
              "      <td>0.0</td>\n",
              "      <td>0.0</td>\n",
              "      <td>12.0</td>\n",
              "      <td>12</td>\n",
              "      <td>12.0</td>\n",
              "      <td>0.0</td>\n",
              "      <td>0.0</td>\n",
              "    </tr>\n",
              "    <tr>\n",
              "      <th>6</th>\n",
              "      <td>7</td>\n",
              "      <td>B</td>\n",
              "      <td>0.0</td>\n",
              "      <td>0.0</td>\n",
              "      <td>0.0</td>\n",
              "      <td>8.0</td>\n",
              "      <td>8</td>\n",
              "      <td>8.0</td>\n",
              "      <td>8.0</td>\n",
              "      <td>0.0</td>\n",
              "    </tr>\n",
              "    <tr>\n",
              "      <th>7</th>\n",
              "      <td>8</td>\n",
              "      <td>G</td>\n",
              "      <td>0.0</td>\n",
              "      <td>0.0</td>\n",
              "      <td>0.0</td>\n",
              "      <td>12.0</td>\n",
              "      <td>12</td>\n",
              "      <td>12.0</td>\n",
              "      <td>12.0</td>\n",
              "      <td>12.0</td>\n",
              "    </tr>\n",
              "    <tr>\n",
              "      <th>8</th>\n",
              "      <td>9</td>\n",
              "      <td>C</td>\n",
              "      <td>0.0</td>\n",
              "      <td>0.0</td>\n",
              "      <td>0.0</td>\n",
              "      <td>8.0</td>\n",
              "      <td>8</td>\n",
              "      <td>8.0</td>\n",
              "      <td>8.0</td>\n",
              "      <td>8.0</td>\n",
              "    </tr>\n",
              "    <tr>\n",
              "      <th>9</th>\n",
              "      <td>10</td>\n",
              "      <td>B</td>\n",
              "      <td>0.0</td>\n",
              "      <td>0.0</td>\n",
              "      <td>0.0</td>\n",
              "      <td>0.0</td>\n",
              "      <td>8</td>\n",
              "      <td>8.0</td>\n",
              "      <td>8.0</td>\n",
              "      <td>8.0</td>\n",
              "    </tr>\n",
              "  </tbody>\n",
              "</table>\n",
              "</div>"
            ],
            "text/plain": [
              "   Atividade Responsável    S1    S2    S3    S4  S5    S6    S7    S8\n",
              "0          1           A  12.0  12.0  12.0  12.0  12  12.0  12.0  12.0\n",
              "1          2           B   0.0   4.0   4.0   4.0   4   4.0   4.0   4.0\n",
              "2          3           C   0.0   6.0   6.0   6.0   6   0.0   0.0   0.0\n",
              "3          4           C   0.0   0.0  12.0  12.0  12  12.0   0.0   0.0\n",
              "4          5           G   0.0   0.0   0.0   8.0   8   8.0   0.0   0.0\n",
              "5          6           F   0.0   0.0   0.0  12.0  12  12.0   0.0   0.0\n",
              "6          7           B   0.0   0.0   0.0   8.0   8   8.0   8.0   0.0\n",
              "7          8           G   0.0   0.0   0.0  12.0  12  12.0  12.0  12.0\n",
              "8          9           C   0.0   0.0   0.0   8.0   8   8.0   8.0   8.0\n",
              "9         10           B   0.0   0.0   0.0   0.0   8   8.0   8.0   8.0"
            ]
          },
          "execution_count": 200,
          "metadata": {},
          "output_type": "execute_result"
        }
      ],
      "source": [
        "#Importando os dados para um data frame\n",
        "df_cronograma = pd.read_excel(\"cronograma.xlsx\")\n",
        "\n",
        "#tratando os dados, substituindo os valores nulos por 0\n",
        "df_cronograma.fillna(0, inplace=True)\n",
        "df_cronograma"
      ]
    },
    {
      "attachments": {},
      "cell_type": "markdown",
      "metadata": {},
      "source": [
        "Agora iniciamos a analise dos dados, inicialmente exibindo as horas trabalhadas por semana e em seguida verificando que semana os limites foram excedidos\n"
      ]
    },
    {
      "cell_type": "code",
      "execution_count": 201,
      "metadata": {
        "colab": {
          "base_uri": "https://localhost:8080/",
          "height": 112
        },
        "id": "QsjZmyypVY7U",
        "outputId": "b79158af-cd9f-4467-86b7-e81ece0b5d8d"
      },
      "outputs": [
        {
          "data": {
            "text/html": [
              "<div>\n",
              "<style scoped>\n",
              "    .dataframe tbody tr th:only-of-type {\n",
              "        vertical-align: middle;\n",
              "    }\n",
              "\n",
              "    .dataframe tbody tr th {\n",
              "        vertical-align: top;\n",
              "    }\n",
              "\n",
              "    .dataframe thead th {\n",
              "        text-align: right;\n",
              "    }\n",
              "</style>\n",
              "<table border=\"1\" class=\"dataframe\">\n",
              "  <thead>\n",
              "    <tr style=\"text-align: right;\">\n",
              "      <th></th>\n",
              "      <th>0</th>\n",
              "      <th>1</th>\n",
              "      <th>2</th>\n",
              "      <th>3</th>\n",
              "      <th>4</th>\n",
              "      <th>5</th>\n",
              "      <th>6</th>\n",
              "      <th>7</th>\n",
              "    </tr>\n",
              "  </thead>\n",
              "  <tbody>\n",
              "    <tr>\n",
              "      <th>Semanas</th>\n",
              "      <td>S1</td>\n",
              "      <td>S2</td>\n",
              "      <td>S3</td>\n",
              "      <td>S4</td>\n",
              "      <td>S5</td>\n",
              "      <td>S6</td>\n",
              "      <td>S7</td>\n",
              "      <td>S8</td>\n",
              "    </tr>\n",
              "    <tr>\n",
              "      <th>Qtde de horas</th>\n",
              "      <td>12.0</td>\n",
              "      <td>22.0</td>\n",
              "      <td>34.0</td>\n",
              "      <td>82.0</td>\n",
              "      <td>90.0</td>\n",
              "      <td>84.0</td>\n",
              "      <td>52.0</td>\n",
              "      <td>44.0</td>\n",
              "    </tr>\n",
              "  </tbody>\n",
              "</table>\n",
              "</div>"
            ],
            "text/plain": [
              "                  0     1     2     3     4     5     6     7\n",
              "Semanas          S1    S2    S3    S4    S5    S6    S7    S8\n",
              "Qtde de horas  12.0  22.0  34.0  82.0  90.0  84.0  52.0  44.0"
            ]
          },
          "execution_count": 201,
          "metadata": {},
          "output_type": "execute_result"
        }
      ],
      "source": [
        "#Somando a quantidade de horas por semana\n",
        "\n",
        "horas_semanas = df_cronograma#copiando um dataframe para uma variavel auxiliar\n",
        "horas_semanas = horas_semanas.drop(columns=[\"Atividade\", \"Responsável\"]).sum().reset_index()#retirando as colunas desnecessarias para estaá parte da análise\n",
        "horas_semanas = horas_semanas.rename(columns={\"index\":\"Semanas\", 0: \"Qtde de horas\"})#renomeando as colunas\n",
        "horas_semanas.transpose()\n"
      ]
    },
    {
      "cell_type": "code",
      "execution_count": 202,
      "metadata": {
        "colab": {
          "base_uri": "https://localhost:8080/",
          "height": 129
        },
        "id": "gyVkh2MJQTaS",
        "outputId": "be47fc6f-7442-4790-92a0-17365f6805b3"
      },
      "outputs": [
        {
          "name": "stdout",
          "output_type": "stream",
          "text": [
            "As semanas que excedem o máximo de quantidade de horas de mão de obra são: \n"
          ]
        },
        {
          "data": {
            "text/html": [
              "<div>\n",
              "<style scoped>\n",
              "    .dataframe tbody tr th:only-of-type {\n",
              "        vertical-align: middle;\n",
              "    }\n",
              "\n",
              "    .dataframe tbody tr th {\n",
              "        vertical-align: top;\n",
              "    }\n",
              "\n",
              "    .dataframe thead th {\n",
              "        text-align: right;\n",
              "    }\n",
              "</style>\n",
              "<table border=\"1\" class=\"dataframe\">\n",
              "  <thead>\n",
              "    <tr style=\"text-align: right;\">\n",
              "      <th></th>\n",
              "      <th>3</th>\n",
              "      <th>4</th>\n",
              "      <th>5</th>\n",
              "    </tr>\n",
              "  </thead>\n",
              "  <tbody>\n",
              "    <tr>\n",
              "      <th>Semanas</th>\n",
              "      <td>S4</td>\n",
              "      <td>S5</td>\n",
              "      <td>S6</td>\n",
              "    </tr>\n",
              "    <tr>\n",
              "      <th>Qtde de horas</th>\n",
              "      <td>82.0</td>\n",
              "      <td>90.0</td>\n",
              "      <td>84.0</td>\n",
              "    </tr>\n",
              "  </tbody>\n",
              "</table>\n",
              "</div>"
            ],
            "text/plain": [
              "                  3     4     5\n",
              "Semanas          S4    S5    S6\n",
              "Qtde de horas  82.0  90.0  84.0"
            ]
          },
          "execution_count": 202,
          "metadata": {},
          "output_type": "execute_result"
        }
      ],
      "source": [
        "#Verificando as semanas que excedem a mão de obra\n",
        "\n",
        "#horas_semanas = horas_semanas.transpose()#fazendo a transposta para trabalhar de acordo com as colunas\n",
        "horas_excedidas = horas_semanas[horas_semanas[\"Qtde de horas\"]>80]#passando filtro para ver onde o número de horas trabalhadas foimaior que 80\n",
        "\n",
        "#exibindo o resultado da análise\n",
        "print(\"As semanas que excedem o máximo de quantidade de horas de mão de obra são: \")\n",
        "horas_excedidas\n"
      ]
    },
    {
      "cell_type": "markdown",
      "metadata": {
        "id": "XHrxwGuuLlVO"
      },
      "source": [
        "Nesta parte da análise, escolhemos um funcionario e verificamos quantas horas o mesmo tem alocado no projeto"
      ]
    },
    {
      "cell_type": "code",
      "execution_count": 203,
      "metadata": {
        "colab": {
          "base_uri": "https://localhost:8080/",
          "height": 112
        },
        "id": "RFLHzHQtLj8_",
        "outputId": "68b920a9-c93e-4384-f57b-1d7f236a773a"
      },
      "outputs": [
        {
          "name": "stdout",
          "output_type": "stream",
          "text": [
            "total de horas trabalhado por funcionário de todos os funcionários:\n"
          ]
        },
        {
          "data": {
            "text/html": [
              "<div>\n",
              "<style scoped>\n",
              "    .dataframe tbody tr th:only-of-type {\n",
              "        vertical-align: middle;\n",
              "    }\n",
              "\n",
              "    .dataframe tbody tr th {\n",
              "        vertical-align: top;\n",
              "    }\n",
              "\n",
              "    .dataframe thead th {\n",
              "        text-align: right;\n",
              "    }\n",
              "</style>\n",
              "<table border=\"1\" class=\"dataframe\">\n",
              "  <thead>\n",
              "    <tr style=\"text-align: right;\">\n",
              "      <th></th>\n",
              "      <th>Responsável</th>\n",
              "      <th>Qtde de horas</th>\n",
              "    </tr>\n",
              "  </thead>\n",
              "  <tbody>\n",
              "    <tr>\n",
              "      <th>0</th>\n",
              "      <td>A</td>\n",
              "      <td>96.0</td>\n",
              "    </tr>\n",
              "    <tr>\n",
              "      <th>1</th>\n",
              "      <td>B</td>\n",
              "      <td>92.0</td>\n",
              "    </tr>\n",
              "    <tr>\n",
              "      <th>2</th>\n",
              "      <td>C</td>\n",
              "      <td>112.0</td>\n",
              "    </tr>\n",
              "    <tr>\n",
              "      <th>3</th>\n",
              "      <td>F</td>\n",
              "      <td>36.0</td>\n",
              "    </tr>\n",
              "    <tr>\n",
              "      <th>4</th>\n",
              "      <td>G</td>\n",
              "      <td>84.0</td>\n",
              "    </tr>\n",
              "  </tbody>\n",
              "</table>\n",
              "</div>"
            ],
            "text/plain": [
              "  Responsável  Qtde de horas\n",
              "0           A           96.0\n",
              "1           B           92.0\n",
              "2           C          112.0\n",
              "3           F           36.0\n",
              "4           G           84.0"
            ]
          },
          "execution_count": 203,
          "metadata": {},
          "output_type": "execute_result"
        }
      ],
      "source": [
        "#Quantidade de horas de todos os funcionários, alocadas no projeto\n",
        "\n",
        "juncao_responsaveis = df_cronograma.groupby(\"Responsável\").sum()#somando o total de horas por semana de cada funionário\n",
        "juncao_responsaveis = juncao_responsaveis.drop(columns=[\"Atividade\"]).sum(axis=1)#retirando a coluna atividade pois o dado neste momento é irrelevante e realizando a soma das horas de cada semana de cada empregado\n",
        "\n",
        "#configurando a exibição\n",
        "juncao = juncao_responsaveis.reset_index()#tranformando em um dataframe novamente(puramante estético)\n",
        "juncao = juncao.rename(columns={0:\"Qtde de horas\"})#renomeando as colunas pois seus nomes foram retirados com a função reset index\n",
        "\n",
        "#exibindo\n",
        "print(\"total de horas trabalhado por funcionário de todos os funcionários:\")\n",
        "juncao#exibindo dado\n"
      ]
    },
    {
      "cell_type": "code",
      "execution_count": 204,
      "metadata": {
        "colab": {
          "base_uri": "https://localhost:8080/"
        },
        "id": "FUp4bZaw_7hq",
        "outputId": "7e4f3c67-ec0a-4862-a034-732c858c5ca9"
      },
      "outputs": [
        {
          "name": "stdout",
          "output_type": "stream",
          "text": [
            "Não há horas cadastradas desse funcionário.\n"
          ]
        }
      ],
      "source": [
        "#Imprimindo o total de horas trabalhadas de um funcionário específico\n",
        "try:\n",
        "  Funcionario = input(\"Qual funcionário você deseja verificar as horas? \").upper()\n",
        "  hora_funcionario = juncao_responsaveis[Funcionario]\n",
        "  print(f\"As horas desse funcionário {Funcionario} são: {hora_funcionario}\")\n",
        "except:\n",
        "  print(\"Não há horas cadastradas desse funcionário.\")"
      ]
    },
    {
      "attachments": {},
      "cell_type": "markdown",
      "metadata": {
        "id": "4ZoWqae5WJD6"
      },
      "source": [
        "Calculando o total de horas da equipe no projeto"
      ]
    },
    {
      "cell_type": "code",
      "execution_count": 205,
      "metadata": {
        "id": "2DkaNassAibf"
      },
      "outputs": [
        {
          "data": {
            "text/html": [
              "<div>\n",
              "<style scoped>\n",
              "    .dataframe tbody tr th:only-of-type {\n",
              "        vertical-align: middle;\n",
              "    }\n",
              "\n",
              "    .dataframe tbody tr th {\n",
              "        vertical-align: top;\n",
              "    }\n",
              "\n",
              "    .dataframe thead th {\n",
              "        text-align: right;\n",
              "    }\n",
              "</style>\n",
              "<table border=\"1\" class=\"dataframe\">\n",
              "  <thead>\n",
              "    <tr style=\"text-align: right;\">\n",
              "      <th></th>\n",
              "      <th>Semanas</th>\n",
              "      <th>Qtde de horas</th>\n",
              "    </tr>\n",
              "  </thead>\n",
              "  <tbody>\n",
              "    <tr>\n",
              "      <th>0</th>\n",
              "      <td>S1</td>\n",
              "      <td>12.0</td>\n",
              "    </tr>\n",
              "    <tr>\n",
              "      <th>1</th>\n",
              "      <td>S2</td>\n",
              "      <td>22.0</td>\n",
              "    </tr>\n",
              "    <tr>\n",
              "      <th>2</th>\n",
              "      <td>S3</td>\n",
              "      <td>34.0</td>\n",
              "    </tr>\n",
              "    <tr>\n",
              "      <th>3</th>\n",
              "      <td>S4</td>\n",
              "      <td>82.0</td>\n",
              "    </tr>\n",
              "    <tr>\n",
              "      <th>4</th>\n",
              "      <td>S5</td>\n",
              "      <td>90.0</td>\n",
              "    </tr>\n",
              "    <tr>\n",
              "      <th>5</th>\n",
              "      <td>S6</td>\n",
              "      <td>84.0</td>\n",
              "    </tr>\n",
              "    <tr>\n",
              "      <th>6</th>\n",
              "      <td>S7</td>\n",
              "      <td>52.0</td>\n",
              "    </tr>\n",
              "    <tr>\n",
              "      <th>7</th>\n",
              "      <td>S8</td>\n",
              "      <td>44.0</td>\n",
              "    </tr>\n",
              "  </tbody>\n",
              "</table>\n",
              "</div>"
            ],
            "text/plain": [
              "  Semanas  Qtde de horas\n",
              "0      S1           12.0\n",
              "1      S2           22.0\n",
              "2      S3           34.0\n",
              "3      S4           82.0\n",
              "4      S5           90.0\n",
              "5      S6           84.0\n",
              "6      S7           52.0\n",
              "7      S8           44.0"
            ]
          },
          "execution_count": 205,
          "metadata": {},
          "output_type": "execute_result"
        }
      ],
      "source": [
        "# Horas totais do projeto\n",
        "horas_semanas"
      ]
    },
    {
      "cell_type": "code",
      "execution_count": 206,
      "metadata": {
        "colab": {
          "base_uri": "https://localhost:8080/"
        },
        "id": "86rchZ_xSAei",
        "outputId": "55bcddd4-04df-47d3-cf24-b534e83e287a"
      },
      "outputs": [
        {
          "name": "stdout",
          "output_type": "stream",
          "text": [
            "A quantidade total de horas é: 420.0\n"
          ]
        }
      ],
      "source": [
        "# Horas totais do projeto\n",
        "horas_totais = df_cronograma.drop(columns=[\"Atividade\", \"Responsável\"]).sum().sum()\n",
        "print(f\"A quantidade total de horas é: {horas_totais}\")"
      ]
    },
    {
      "attachments": {},
      "cell_type": "markdown",
      "metadata": {
        "id": "k0q8LdcOV3Ms"
      },
      "source": [
        "Calculando o custo por funcionário e custo do projeto"
      ]
    },
    {
      "cell_type": "code",
      "execution_count": 207,
      "metadata": {
        "id": "dc-OlF7mWNib"
      },
      "outputs": [
        {
          "data": {
            "text/html": [
              "<div>\n",
              "<style scoped>\n",
              "    .dataframe tbody tr th:only-of-type {\n",
              "        vertical-align: middle;\n",
              "    }\n",
              "\n",
              "    .dataframe tbody tr th {\n",
              "        vertical-align: top;\n",
              "    }\n",
              "\n",
              "    .dataframe thead th {\n",
              "        text-align: right;\n",
              "    }\n",
              "</style>\n",
              "<table border=\"1\" class=\"dataframe\">\n",
              "  <thead>\n",
              "    <tr style=\"text-align: right;\">\n",
              "      <th></th>\n",
              "      <th>Profissional</th>\n",
              "      <th>Horas</th>\n",
              "      <th>Custo</th>\n",
              "      <th>Total</th>\n",
              "    </tr>\n",
              "  </thead>\n",
              "  <tbody>\n",
              "    <tr>\n",
              "      <th>0</th>\n",
              "      <td>A</td>\n",
              "      <td>96.0</td>\n",
              "      <td>180</td>\n",
              "      <td>17280.0</td>\n",
              "    </tr>\n",
              "    <tr>\n",
              "      <th>1</th>\n",
              "      <td>B</td>\n",
              "      <td>92.0</td>\n",
              "      <td>120</td>\n",
              "      <td>11040.0</td>\n",
              "    </tr>\n",
              "    <tr>\n",
              "      <th>2</th>\n",
              "      <td>C</td>\n",
              "      <td>112.0</td>\n",
              "      <td>100</td>\n",
              "      <td>11200.0</td>\n",
              "    </tr>\n",
              "    <tr>\n",
              "      <th>3</th>\n",
              "      <td>F</td>\n",
              "      <td>36.0</td>\n",
              "      <td>80</td>\n",
              "      <td>2880.0</td>\n",
              "    </tr>\n",
              "    <tr>\n",
              "      <th>4</th>\n",
              "      <td>G</td>\n",
              "      <td>84.0</td>\n",
              "      <td>80</td>\n",
              "      <td>6720.0</td>\n",
              "    </tr>\n",
              "  </tbody>\n",
              "</table>\n",
              "</div>"
            ],
            "text/plain": [
              "  Profissional  Horas  Custo    Total\n",
              "0            A   96.0    180  17280.0\n",
              "1            B   92.0    120  11040.0\n",
              "2            C  112.0    100  11200.0\n",
              "3            F   36.0     80   2880.0\n",
              "4            G   84.0     80   6720.0"
            ]
          },
          "execution_count": 207,
          "metadata": {},
          "output_type": "execute_result"
        }
      ],
      "source": [
        "#importando a tabela de custos\n",
        "df_custohora = pd.read_excel(\"custohora.xlsx\")\n",
        "\n",
        "#tratando o df do cronograma\n",
        "df_cronograma = df_cronograma.drop(columns=[\"Atividade\"])#retirando a coluna atividade por não ser relevante no momento\n",
        "df_cronograma = df_cronograma.rename(columns={\"Responsável\":\"Profissional\"})#renomeando a coluna para um nome que faça mais sentido\n",
        "df_cronograma.fillna(0, inplace=True)#tratando os dados nulos\n",
        "df_cronograma = df_cronograma.groupby(\"Profissional\").sum().sum(axis=1)#agrupando os valores de custo de cada funcionário\n",
        "\n",
        "df_cronograma = pd.DataFrame(df_cronograma)#tranformando novamete em cronograma para fazer o merge\n",
        "\n",
        "\n",
        "#unindo as tabelas\n",
        "custo_profissional = pd.merge(df_cronograma, df_custohora, how = 'inner', on = 'Profissional')#fazendo o merge\n",
        "custo_profissional = custo_profissional.rename(columns = {0:'Horas'})#renomeando a coluna\n",
        "custo_profissional[\"Total\"] = custo_profissional[\"Horas\"]*custo_profissional[\"Custo\"]#criando a coluna total e calculando cada valor da mesma\n",
        "\n",
        "#exibindo os dados\n",
        "custo_profissional"
      ]
    },
    {
      "cell_type": "code",
      "execution_count": 208,
      "metadata": {
        "colab": {
          "base_uri": "https://localhost:8080/"
        },
        "id": "Ly-nQTeBbflY",
        "outputId": "45eed328-e201-43d3-f209-72f74f914a95"
      },
      "outputs": [
        {
          "name": "stdout",
          "output_type": "stream",
          "text": [
            "O preço total do projeto é:  49120.0\n"
          ]
        }
      ],
      "source": [
        "#calculando o custo do projeto\n",
        "total = sum(custo_profissional.Total)\n",
        "\n",
        "#exibindo o resultado\n",
        "print(f\"O preço total do projeto é: {total}\")"
      ]
    }
  ],
  "metadata": {
    "colab": {
      "provenance": []
    },
    "kernelspec": {
      "display_name": "Python 3",
      "name": "python3"
    },
    "language_info": {
      "codemirror_mode": {
        "name": "ipython",
        "version": 3
      },
      "file_extension": ".py",
      "mimetype": "text/x-python",
      "name": "python",
      "nbconvert_exporter": "python",
      "pygments_lexer": "ipython3",
      "version": "3.10.6"
    }
  },
  "nbformat": 4,
  "nbformat_minor": 0
}
